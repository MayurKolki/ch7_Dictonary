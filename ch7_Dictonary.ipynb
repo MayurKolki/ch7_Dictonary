{
 "cells": [
  {
   "cell_type": "markdown",
   "metadata": {},
   "source": [
    "# ch7 : Dictonary"
   ]
  },
  {
   "cell_type": "code",
   "execution_count": 162,
   "metadata": {},
   "outputs": [
    {
     "name": "stdout",
     "output_type": "stream",
     "text": [
      "first time using notebook\n"
     ]
    }
   ],
   "source": [
    "print(\"first time using notebook\")"
   ]
  },
  {
   "cell_type": "code",
   "execution_count": 3,
   "metadata": {},
   "outputs": [
    {
     "data": {
      "text/plain": [
       "70"
      ]
     },
     "execution_count": 3,
     "metadata": {},
     "output_type": "execute_result"
    }
   ],
   "source": [
    "import random as r\n",
    "r.randint(1,100)"
   ]
  },
  {
   "cell_type": "code",
   "execution_count": 5,
   "metadata": {},
   "outputs": [
    {
     "data": {
      "text/plain": [
       "1.3441975547175837"
      ]
     },
     "execution_count": 5,
     "metadata": {},
     "output_type": "execute_result"
    }
   ],
   "source": [
    "r.uniform(0,2)"
   ]
  },
  {
   "cell_type": "code",
   "execution_count": 6,
   "metadata": {},
   "outputs": [],
   "source": [
    "#ch7:-dictonary"
   ]
  },
  {
   "cell_type": "code",
   "execution_count": 7,
   "metadata": {},
   "outputs": [],
   "source": [
    "#this is pythan object->that stores data in form of keys and values\n",
    "#{a,b}\n",
    "#name and value\n",
    "#{}-dictonary symbol\n",
    "#key-value(S) pair\n",
    "##reading it from left to rihght\n",
    "#when a dictonary gets converted into file for reading.. then it is JSON->Java script object location file format\n",
    "#dicnory:- is something we lookup for words and there meaning\n",
    "#dictonary-> is the collection of key value pairs\n",
    "#keys cannot be duplicate, values can be duplicate\n",
    "#dictionary keys can be nuber,charatcer ,aplhanumeric ,\n",
    "#one and multiple values\n",
    "#dictionary is represented as {}\n",
    "#mutuable objects\n",
    "#ductinory can be converted to dataframes\n",
    "#does dict supports nested dict ,ex? ->address is single ,\n",
    "\n",
    "#3 ways you can access dic? ->only keys function is dict.keys\n",
    "                          # boths keys and values   dict.items\n",
    "                           #create only values dict.values\n",
    "        \n",
    "     ##   when i am dict .items what is the format of output? -> it returns a tuple () barcets \n",
    "    for k,v  in dict.items()\n",
    "#so how it is different from set-> set doesnt have key value pair,set has only values and unique\n",
    "\n",
    "#what else cane be do to dictinory? => fetching, iterable object\n",
    "#because it is key value ,we can access withs keys no index"
   ]
  },
  {
   "cell_type": "code",
   "execution_count": 8,
   "metadata": {},
   "outputs": [],
   "source": [
    "#csv refred file \n",
    "#\n"
   ]
  },
  {
   "cell_type": "code",
   "execution_count": 11,
   "metadata": {},
   "outputs": [],
   "source": [
    "#one key - 1 value\n",
    "#1 key - multiple value\n",
    "\n",
    "########### 1 key - 1 value ##################################3\n",
    "#empty dictonary\n",
    "books={}"
   ]
  },
  {
   "cell_type": "code",
   "execution_count": 13,
   "metadata": {},
   "outputs": [
    {
     "data": {
      "text/plain": [
       "dict"
      ]
     },
     "execution_count": 13,
     "metadata": {},
     "output_type": "execute_result"
    }
   ],
   "source": [
    "type(books)"
   ]
  },
  {
   "cell_type": "code",
   "execution_count": 15,
   "metadata": {},
   "outputs": [],
   "source": [
    "#add data in form of key-value pairs\n",
    "#author->book\n",
    "books['r k narayan'] = 'malgudi days'\n",
    "books['ac doyle'] = 'sherlock holmes'\n",
    "books['a christie'] = 'adventures of poirot'\n",
    "books['herge'] = 'tintin'"
   ]
  },
  {
   "cell_type": "code",
   "execution_count": 17,
   "metadata": {},
   "outputs": [
    {
     "name": "stdout",
     "output_type": "stream",
     "text": [
      "{'r k narayan': 'malgudi days', 'ac doyle': 'sherlock holmes', 'a christie': 'adventures of poirot', 'herge': 'tintin'}\n"
     ]
    }
   ],
   "source": [
    "print(books)"
   ]
  },
  {
   "cell_type": "code",
   "execution_count": null,
   "metadata": {},
   "outputs": [],
   "source": [
    "#about keys\n",
    "#1) keys are unique\n",
    "#2)keys can be numbers()\n",
    "#,letters,or alpha numeric "
   ]
  },
  {
   "cell_type": "code",
   "execution_count": 18,
   "metadata": {},
   "outputs": [
    {
     "name": "stdout",
     "output_type": "stream",
     "text": [
      "{'r k narayan': 'malgudi days', 'ac doyle': 'sherlock holmes', 'a christie': 'adventures of poirot', 'herge': 'tintin', 18383817: 'asterix and obelix'}\n"
     ]
    }
   ],
   "source": [
    "books[18383817] = 'asterix and obelix'\n",
    "print(books)"
   ]
  },
  {
   "cell_type": "code",
   "execution_count": null,
   "metadata": {},
   "outputs": [],
   "source": [
    "#aplhanumeric->combination od numbers and letter"
   ]
  },
  {
   "cell_type": "code",
   "execution_count": 19,
   "metadata": {},
   "outputs": [
    {
     "name": "stdout",
     "output_type": "stream",
     "text": [
      "{'r k narayan': 'malgudi days', 'ac doyle': 'sherlock holmes', 'a christie': 'adventures of poirot', 'herge': 'tintin', 18383817: 'asterix and obelix', 'CRS1309': 'beauty of photography'}\n"
     ]
    }
   ],
   "source": [
    "books['CRS1309'] = 'beauty of photography'\n",
    "print(books)"
   ]
  },
  {
   "cell_type": "code",
   "execution_count": 20,
   "metadata": {},
   "outputs": [
    {
     "data": {
      "text/plain": [
       "6"
      ]
     },
     "execution_count": 20,
     "metadata": {},
     "output_type": "execute_result"
    }
   ],
   "source": [
    "len(books)"
   ]
  },
  {
   "cell_type": "code",
   "execution_count": 21,
   "metadata": {},
   "outputs": [
    {
     "data": {
      "text/plain": [
       "'tintin'"
      ]
     },
     "execution_count": 21,
     "metadata": {},
     "output_type": "execute_result"
    }
   ],
   "source": [
    "#access it with key not index\n",
    "#accessing the dictonary is by the key\n",
    "#specify the right key to get the corresponding values(s)\n",
    "books['herge']"
   ]
  },
  {
   "cell_type": "code",
   "execution_count": 22,
   "metadata": {},
   "outputs": [
    {
     "ename": "KeyError",
     "evalue": "123",
     "output_type": "error",
     "traceback": [
      "\u001b[1;31m---------------------------------------------------------------------------\u001b[0m",
      "\u001b[1;31mKeyError\u001b[0m                                  Traceback (most recent call last)",
      "\u001b[1;32m<ipython-input-22-a5d6211956e9>\u001b[0m in \u001b[0;36m<module>\u001b[1;34m\u001b[0m\n\u001b[0;32m      1\u001b[0m \u001b[1;31m#for ex wrong key\u001b[0m\u001b[1;33m\u001b[0m\u001b[1;33m\u001b[0m\u001b[1;33m\u001b[0m\u001b[0m\n\u001b[1;32m----> 2\u001b[1;33m \u001b[0mbooks\u001b[0m\u001b[1;33m[\u001b[0m\u001b[1;36m123\u001b[0m\u001b[1;33m]\u001b[0m\u001b[1;33m\u001b[0m\u001b[1;33m\u001b[0m\u001b[0m\n\u001b[0m",
      "\u001b[1;31mKeyError\u001b[0m: 123"
     ]
    }
   ],
   "source": [
    "#for ex wrong key\n",
    "#wrong key gives a 'keyerror' exception\n",
    "books[123]   #-> it will show key error"
   ]
  },
  {
   "cell_type": "code",
   "execution_count": null,
   "metadata": {},
   "outputs": [],
   "source": [
    "#assignment\n",
    "#1)write a pytho script to create a dictonary in the following format for numbers between 1 to 20 \n",
    "#format should be \n",
    "numd[1]=1, numd[2]=4 [3]=9...\n",
    "#no hardcoding"
   ]
  },
  {
   "cell_type": "code",
   "execution_count": 24,
   "metadata": {},
   "outputs": [
    {
     "data": {
      "text/plain": [
       "[1, 3, 5, 7, 9, 11, 13, 15, 17, 19]"
      ]
     },
     "execution_count": 24,
     "metadata": {},
     "output_type": "execute_result"
    }
   ],
   "source": [
    "list(range(1,20,2))"
   ]
  },
  {
   "cell_type": "code",
   "execution_count": 36,
   "metadata": {},
   "outputs": [],
   "source": [
    "numd ={}"
   ]
  },
  {
   "cell_type": "code",
   "execution_count": 37,
   "metadata": {},
   "outputs": [
    {
     "name": "stdout",
     "output_type": "stream",
     "text": [
      "{1: 1, 2: 4, 3: 9, 4: 16, 5: 25, 6: 36, 7: 49, 8: 64, 9: 81, 10: 100, 11: 121, 12: 144, 13: 169, 14: 196, 15: 225, 16: 256, 17: 289, 18: 324, 19: 361, 20: 400}\n"
     ]
    }
   ],
   "source": [
    "for i in range (1,21):\n",
    "    numd[i] = pow(i,2)\n",
    "print(numd)"
   ]
  },
  {
   "cell_type": "code",
   "execution_count": 33,
   "metadata": {},
   "outputs": [],
   "source": [
    "numd['1'] = 1   #this is method is wrong\n",
    "numd['2'] = 2*2\n",
    "numd['3'] = 3*3"
   ]
  },
  {
   "cell_type": "code",
   "execution_count": 34,
   "metadata": {},
   "outputs": [
    {
     "name": "stdout",
     "output_type": "stream",
     "text": [
      "{'1': 1, '2': 4, '3': 9}\n"
     ]
    }
   ],
   "source": [
    "print(numd)"
   ]
  },
  {
   "cell_type": "code",
   "execution_count": 35,
   "metadata": {},
   "outputs": [
    {
     "data": {
      "text/plain": [
       "1"
      ]
     },
     "execution_count": 35,
     "metadata": {},
     "output_type": "execute_result"
    }
   ],
   "source": [
    "numd['1']"
   ]
  },
  {
   "cell_type": "code",
   "execution_count": 42,
   "metadata": {},
   "outputs": [
    {
     "name": "stdout",
     "output_type": "stream",
     "text": [
      "guide\n"
     ]
    }
   ],
   "source": [
    "#change value for a key\n",
    "books['r k narayan'] = 'guide'\n",
    "print(books['r k narayan'])"
   ]
  },
  {
   "cell_type": "code",
   "execution_count": 46,
   "metadata": {},
   "outputs": [
    {
     "ename": "KeyError",
     "evalue": "1",
     "output_type": "error",
     "traceback": [
      "\u001b[1;31m---------------------------------------------------------------------------\u001b[0m",
      "\u001b[1;31mKeyError\u001b[0m                                  Traceback (most recent call last)",
      "\u001b[1;32m<ipython-input-46-170036b69e9d>\u001b[0m in \u001b[0;36m<module>\u001b[1;34m\u001b[0m\n\u001b[0;32m      1\u001b[0m \u001b[1;31m#remove a certain key (key-value pair gets deleted)\u001b[0m\u001b[1;33m\u001b[0m\u001b[1;33m\u001b[0m\u001b[1;33m\u001b[0m\u001b[0m\n\u001b[1;32m----> 2\u001b[1;33m \u001b[1;32mdel\u001b[0m \u001b[0mnumd\u001b[0m\u001b[1;33m[\u001b[0m\u001b[1;36m1\u001b[0m\u001b[1;33m]\u001b[0m\u001b[1;33m\u001b[0m\u001b[1;33m\u001b[0m\u001b[0m\n\u001b[0m\u001b[0;32m      3\u001b[0m \u001b[0mprint\u001b[0m\u001b[1;33m(\u001b[0m\u001b[0mnumd\u001b[0m\u001b[1;33m)\u001b[0m\u001b[1;33m\u001b[0m\u001b[1;33m\u001b[0m\u001b[0m\n",
      "\u001b[1;31mKeyError\u001b[0m: 1"
     ]
    }
   ],
   "source": [
    "#remove a certain key (key-value pair gets deleted)\n",
    "del numd[1]\n"
   ]
  },
  {
   "cell_type": "code",
   "execution_count": 47,
   "metadata": {},
   "outputs": [
    {
     "name": "stdout",
     "output_type": "stream",
     "text": [
      "{2: 4, 3: 9, 4: 16, 5: 25, 6: 36, 7: 49, 8: 64, 9: 81, 10: 100, 11: 121, 12: 144, 13: 169, 14: 196, 15: 225, 16: 256, 17: 289, 18: 324, 19: 361, 20: 400}\n"
     ]
    }
   ],
   "source": [
    "print(numd)"
   ]
  },
  {
   "cell_type": "code",
   "execution_count": 48,
   "metadata": {},
   "outputs": [
    {
     "name": "stdout",
     "output_type": "stream",
     "text": [
      "{}\n"
     ]
    }
   ],
   "source": [
    "#clear the contents of numd , but object is retained in memory\n",
    "numd.clear()\n",
    "print(numd)"
   ]
  },
  {
   "cell_type": "code",
   "execution_count": null,
   "metadata": {},
   "outputs": [],
   "source": [
    "#difference "
   ]
  },
  {
   "cell_type": "code",
   "execution_count": 51,
   "metadata": {},
   "outputs": [
    {
     "name": "stdout",
     "output_type": "stream",
     "text": [
      "{5: 1919}\n"
     ]
    }
   ],
   "source": [
    "numd[5] = 1919\n",
    "print(numd)"
   ]
  },
  {
   "cell_type": "code",
   "execution_count": 53,
   "metadata": {},
   "outputs": [],
   "source": [
    "del numd \n"
   ]
  },
  {
   "cell_type": "code",
   "execution_count": 54,
   "metadata": {},
   "outputs": [
    {
     "ename": "NameError",
     "evalue": "name 'numd' is not defined",
     "output_type": "error",
     "traceback": [
      "\u001b[1;31m---------------------------------------------------------------------------\u001b[0m",
      "\u001b[1;31mNameError\u001b[0m                                 Traceback (most recent call last)",
      "\u001b[1;32m<ipython-input-54-81017f193e60>\u001b[0m in \u001b[0;36m<module>\u001b[1;34m\u001b[0m\n\u001b[1;32m----> 1\u001b[1;33m \u001b[0mprint\u001b[0m\u001b[1;33m(\u001b[0m\u001b[0mnumd\u001b[0m\u001b[1;33m)\u001b[0m\u001b[1;33m\u001b[0m\u001b[1;33m\u001b[0m\u001b[0m\n\u001b[0m",
      "\u001b[1;31mNameError\u001b[0m: name 'numd' is not defined"
     ]
    }
   ],
   "source": [
    "print(numd)"
   ]
  },
  {
   "cell_type": "code",
   "execution_count": 55,
   "metadata": {},
   "outputs": [
    {
     "data": {
      "text/plain": [
       "dict_keys(['r k narayan', 'ac doyle', 'a christie', 'herge', 18383817, 'CRS1309'])"
      ]
     },
     "execution_count": 55,
     "metadata": {},
     "output_type": "execute_result"
    }
   ],
   "source": [
    "#other way to access dictonary\n",
    "#1)get only the keys \n",
    "books.keys()"
   ]
  },
  {
   "cell_type": "code",
   "execution_count": 56,
   "metadata": {},
   "outputs": [
    {
     "data": {
      "text/plain": [
       "False"
      ]
     },
     "execution_count": 56,
     "metadata": {},
     "output_type": "execute_result"
    }
   ],
   "source": [
    "#check if a key is present in the dictonary\n",
    "'rajeev dixit' in books"
   ]
  },
  {
   "cell_type": "code",
   "execution_count": 57,
   "metadata": {},
   "outputs": [
    {
     "data": {
      "text/plain": [
       "False"
      ]
     },
     "execution_count": 57,
     "metadata": {},
     "output_type": "execute_result"
    }
   ],
   "source": [
    "#or i can use \n",
    "'rejeev dixit' in books.keys()"
   ]
  },
  {
   "cell_type": "code",
   "execution_count": 58,
   "metadata": {},
   "outputs": [
    {
     "data": {
      "text/plain": [
       "True"
      ]
     },
     "execution_count": 58,
     "metadata": {},
     "output_type": "execute_result"
    }
   ],
   "source": [
    "'a christie' in books"
   ]
  },
  {
   "cell_type": "code",
   "execution_count": 59,
   "metadata": {},
   "outputs": [
    {
     "data": {
      "text/plain": [
       "dict_values(['guide', 'sherlock holmes', 'adventures of poirot', 'tintin', 'asterix and obelix', 'beauty of photography'])"
      ]
     },
     "execution_count": 59,
     "metadata": {},
     "output_type": "execute_result"
    }
   ],
   "source": [
    "#2) get only the values \n",
    "books.values()"
   ]
  },
  {
   "cell_type": "code",
   "execution_count": 60,
   "metadata": {},
   "outputs": [
    {
     "data": {
      "text/plain": [
       "False"
      ]
     },
     "execution_count": 60,
     "metadata": {},
     "output_type": "execute_result"
    }
   ],
   "source": [
    "'poirot' in books.values()"
   ]
  },
  {
   "cell_type": "code",
   "execution_count": 61,
   "metadata": {},
   "outputs": [
    {
     "data": {
      "text/plain": [
       "True"
      ]
     },
     "execution_count": 61,
     "metadata": {},
     "output_type": "execute_result"
    }
   ],
   "source": [
    "'tintin' in books.values()"
   ]
  },
  {
   "cell_type": "code",
   "execution_count": 62,
   "metadata": {},
   "outputs": [
    {
     "data": {
      "text/plain": [
       "dict_items([('r k narayan', 'guide'), ('ac doyle', 'sherlock holmes'), ('a christie', 'adventures of poirot'), ('herge', 'tintin'), (18383817, 'asterix and obelix'), ('CRS1309', 'beauty of photography')])"
      ]
     },
     "execution_count": 62,
     "metadata": {},
     "output_type": "execute_result"
    }
   ],
   "source": [
    "#3) both keys and values\n",
    "books.items()  #tuple format"
   ]
  },
  {
   "cell_type": "code",
   "execution_count": 63,
   "metadata": {},
   "outputs": [
    {
     "name": "stdout",
     "output_type": "stream",
     "text": [
      "Author = r k narayan, Books=guide\n",
      "Author = ac doyle, Books=sherlock holmes\n",
      "Author = a christie, Books=adventures of poirot\n",
      "Author = herge, Books=tintin\n",
      "Author = 18383817, Books=asterix and obelix\n",
      "Author = CRS1309, Books=beauty of photography\n"
     ]
    }
   ],
   "source": [
    "for k,v in books.items():\n",
    "    print('Author = {}, Books={}'.format(k,v))"
   ]
  },
  {
   "cell_type": "code",
   "execution_count": 64,
   "metadata": {},
   "outputs": [
    {
     "data": {
      "text/plain": [
       "{'name': 'sriram',\n",
       " 'age': 50,\n",
       " 'gender': 'm',\n",
       " 'city': 'pune',\n",
       " 'email': ' cr@myoffice.in'}"
      ]
     },
     "execution_count": 64,
     "metadata": {},
     "output_type": "execute_result"
    }
   ],
   "source": [
    "#merging of dictionary\n",
    "contact = {}\n",
    "contact['name'] = 'sriram'\n",
    "contact['age'] = 50\n",
    "contact['gender'] = 'm'\n",
    "contact['city'] =  'pune'\n",
    "contact['email'] = ' cr@myoffice.in'\n",
    "contact"
   ]
  },
  {
   "cell_type": "code",
   "execution_count": null,
   "metadata": {},
   "outputs": [],
   "source": [
    "#we canot merge lie books+ contact"
   ]
  },
  {
   "cell_type": "code",
   "execution_count": 67,
   "metadata": {},
   "outputs": [
    {
     "data": {
      "text/plain": [
       "[('r k narayan', 'guide'),\n",
       " ('ac doyle', 'sherlock holmes'),\n",
       " ('a christie', 'adventures of poirot'),\n",
       " ('herge', 'tintin'),\n",
       " (18383817, 'asterix and obelix'),\n",
       " ('CRS1309', 'beauty of photography')]"
      ]
     },
     "execution_count": 67,
     "metadata": {},
     "output_type": "execute_result"
    }
   ],
   "source": [
    "list(books.items())"
   ]
  },
  {
   "cell_type": "code",
   "execution_count": 68,
   "metadata": {},
   "outputs": [
    {
     "data": {
      "text/plain": [
       "[('name', 'sriram'),\n",
       " ('age', 50),\n",
       " ('gender', 'm'),\n",
       " ('city', 'pune'),\n",
       " ('email', ' cr@myoffice.in')]"
      ]
     },
     "execution_count": 68,
     "metadata": {},
     "output_type": "execute_result"
    }
   ],
   "source": [
    "list(books.items())"
   ]
  },
  {
   "cell_type": "code",
   "execution_count": 74,
   "metadata": {},
   "outputs": [],
   "source": [
    "newd=dict(list(books.items()) + list(contact.items()))"
   ]
  },
  {
   "cell_type": "code",
   "execution_count": 76,
   "metadata": {},
   "outputs": [
    {
     "data": {
      "text/plain": [
       "dict_keys(['r k narayan', 'ac doyle', 'a christie', 'herge', 18383817, 'CRS1309', 'name', 'age', 'gender', 'city', 'email'])"
      ]
     },
     "execution_count": 76,
     "metadata": {},
     "output_type": "execute_result"
    }
   ],
   "source": [
    "newd.keys()"
   ]
  },
  {
   "cell_type": "code",
   "execution_count": null,
   "metadata": {},
   "outputs": [],
   "source": [
    "#############################################################################################################"
   ]
  },
  {
   "cell_type": "code",
   "execution_count": null,
   "metadata": {},
   "outputs": [],
   "source": [
    "#1key-multiple values"
   ]
  },
  {
   "cell_type": "code",
   "execution_count": null,
   "metadata": {},
   "outputs": [],
   "source": [
    "#let us create a weatherdataset in dictionary"
   ]
  },
  {
   "cell_type": "code",
   "execution_count": null,
   "metadata": {},
   "outputs": [],
   "source": [
    "#step 1) create a list of values \n",
    "#schema\n",
    "min_temp(15,20,1d)\n",
    "mac_temp(25,35,1d)\n",
    "min_humid(1-100)\n",
    "max_humid (1-100)\n",
    "altitude (500,2000,1d)\n",
    "pollution(1,50,1d)\n",
    "wind_dir('N/S/W/E/NE/SW') [any 1 @ random ]\n",
    "area('High/Mod/Low') [any 1 2 random]\n",
    "\n"
   ]
  },
  {
   "cell_type": "code",
   "execution_count": 81,
   "metadata": {},
   "outputs": [],
   "source": [
    "import random"
   ]
  },
  {
   "cell_type": "code",
   "execution_count": 83,
   "metadata": {},
   "outputs": [
    {
     "name": "stdout",
     "output_type": "stream",
     "text": [
      "15.2\n"
     ]
    }
   ],
   "source": [
    "temp = round(random.uniform(15,20),1)\n",
    "print(temp) # done by mayur\n"
   ]
  },
  {
   "cell_type": "code",
   "execution_count": 84,
   "metadata": {},
   "outputs": [
    {
     "data": {
      "text/plain": [
       "float"
      ]
     },
     "execution_count": 84,
     "metadata": {},
     "output_type": "execute_result"
    }
   ],
   "source": [
    "type(temp)"
   ]
  },
  {
   "cell_type": "code",
   "execution_count": null,
   "metadata": {},
   "outputs": [],
   "source": []
  },
  {
   "cell_type": "code",
   "execution_count": 142,
   "metadata": {},
   "outputs": [],
   "source": [
    "#step 1) to create a list \n",
    "mintemp = []; maxtemp = [];\n",
    "minhumid=[]; maxhumid=[];\n",
    "alt=[]; poll=[];\n",
    "wind=[]; area=[]"
   ]
  },
  {
   "cell_type": "code",
   "execution_count": 96,
   "metadata": {},
   "outputs": [],
   "source": [
    "import random as r"
   ]
  },
  {
   "cell_type": "code",
   "execution_count": 143,
   "metadata": {},
   "outputs": [],
   "source": [
    "windir= ['N','S','W''E','NE','SW']"
   ]
  },
  {
   "cell_type": "code",
   "execution_count": 144,
   "metadata": {},
   "outputs": [],
   "source": [
    "arealoc=['High','Mod','Low']"
   ]
  },
  {
   "cell_type": "code",
   "execution_count": 145,
   "metadata": {},
   "outputs": [],
   "source": [
    "#generate the sample data\n",
    "for i in range(25):\n",
    "    mintemp.append(round(r.uniform(15,20),1))\n",
    "    maxtemp.append(round(r.uniform(25,35),1))\n",
    "    minhumid.append(r.randint(10,60))    #randint is exclusive\n",
    "    maxhumid.append(r.randint(35,95))\n",
    "    alt.append(round(r.uniform(500,2000),1))\n",
    "    poll.append(round(r.uniform(1,50),1))\n",
    "    wind.append(windir[r.randint(0,len(windir)-1)])\n",
    "    area.append(arealoc[r.randint(0,len(arealoc)-1)])"
   ]
  },
  {
   "cell_type": "code",
   "execution_count": 146,
   "metadata": {},
   "outputs": [
    {
     "data": {
      "text/plain": [
       "25"
      ]
     },
     "execution_count": 146,
     "metadata": {},
     "output_type": "execute_result"
    }
   ],
   "source": [
    "len(mintemp)"
   ]
  },
  {
   "cell_type": "code",
   "execution_count": 147,
   "metadata": {},
   "outputs": [
    {
     "data": {
      "text/plain": [
       "25"
      ]
     },
     "execution_count": 147,
     "metadata": {},
     "output_type": "execute_result"
    }
   ],
   "source": [
    "len(maxtemp)"
   ]
  },
  {
   "cell_type": "code",
   "execution_count": 148,
   "metadata": {},
   "outputs": [
    {
     "data": {
      "text/plain": [
       "25"
      ]
     },
     "execution_count": 148,
     "metadata": {},
     "output_type": "execute_result"
    }
   ],
   "source": [
    "len(minhumid)"
   ]
  },
  {
   "cell_type": "code",
   "execution_count": 149,
   "metadata": {},
   "outputs": [
    {
     "data": {
      "text/plain": [
       "25"
      ]
     },
     "execution_count": 149,
     "metadata": {},
     "output_type": "execute_result"
    }
   ],
   "source": [
    "len(maxhumid)"
   ]
  },
  {
   "cell_type": "code",
   "execution_count": 150,
   "metadata": {},
   "outputs": [
    {
     "data": {
      "text/plain": [
       "25"
      ]
     },
     "execution_count": 150,
     "metadata": {},
     "output_type": "execute_result"
    }
   ],
   "source": [
    "len(alt)"
   ]
  },
  {
   "cell_type": "code",
   "execution_count": 151,
   "metadata": {},
   "outputs": [
    {
     "data": {
      "text/plain": [
       "25"
      ]
     },
     "execution_count": 151,
     "metadata": {},
     "output_type": "execute_result"
    }
   ],
   "source": [
    "len(poll)"
   ]
  },
  {
   "cell_type": "code",
   "execution_count": 152,
   "metadata": {},
   "outputs": [
    {
     "name": "stdout",
     "output_type": "stream",
     "text": [
      "[18.9, 19.3, 15.7, 19.0, 17.4, 17.6, 16.2, 16.2, 17.2, 17.2, 16.6, 18.4, 19.6, 15.5, 15.5, 18.1, 17.0, 17.0, 19.5, 19.6, 19.7, 19.8, 17.3, 18.3, 17.2] "
     ]
    }
   ],
   "source": [
    "#to get a horizontal format display of output\n",
    "print(mintemp,end =\" \")"
   ]
  },
  {
   "cell_type": "code",
   "execution_count": 153,
   "metadata": {},
   "outputs": [],
   "source": [
    "#create the dictionary (key-multiple values)\n",
    "weather = {'mintemp':mintemp, 'maxtemp':maxtemp,'minhumid':minhumid,'maxhumid':maxhumid,'altitude':alt,'pollution':poll,'wind':wind,'area':area\n",
    "          }"
   ]
  },
  {
   "cell_type": "code",
   "execution_count": 154,
   "metadata": {},
   "outputs": [
    {
     "name": "stdout",
     "output_type": "stream",
     "text": [
      "{'mintemp': [18.9, 19.3, 15.7, 19.0, 17.4, 17.6, 16.2, 16.2, 17.2, 17.2, 16.6, 18.4, 19.6, 15.5, 15.5, 18.1, 17.0, 17.0, 19.5, 19.6, 19.7, 19.8, 17.3, 18.3, 17.2], 'maxtemp': [31.4, 31.1, 34.3, 27.6, 25.7, 34.2, 26.1, 31.3, 30.9, 29.2, 35.0, 29.9, 34.7, 33.9, 32.3, 33.7, 25.1, 28.7, 26.9, 34.8, 33.6, 27.9, 28.9, 26.6, 31.4], 'minhumid': [34, 59, 32, 44, 32, 29, 15, 45, 26, 23, 37, 32, 46, 44, 56, 12, 29, 24, 59, 26, 21, 31, 14, 46, 11], 'maxhumid': [51, 37, 95, 43, 73, 66, 51, 71, 91, 55, 83, 44, 66, 95, 82, 80, 89, 53, 91, 66, 85, 74, 35, 35, 82], 'altitude': [1458.7, 1069.7, 1565.3, 755.5, 1222.2, 938.7, 1066.3, 1766.4, 1657.4, 512.8, 979.8, 1956.2, 715.1, 1203.0, 1766.3, 1820.7, 1266.5, 1617.7, 1811.0, 1770.7, 1635.6, 1289.3, 1071.3, 830.3, 1956.2], 'pollution': [4.3, 45.6, 32.9, 48.7, 26.3, 28.4, 33.2, 21.6, 31.8, 49.4, 9.5, 13.8, 41.1, 14.8, 7.3, 26.7, 14.1, 13.7, 15.3, 17.2, 22.6, 22.8, 27.8, 3.6, 43.2], 'wind': ['N', 'NE', 'S', 'N', 'N', 'N', 'NE', 'NE', 'N', 'NE', 'WE', 'NE', 'WE', 'SW', 'SW', 'WE', 'N', 'S', 'WE', 'S', 'NE', 'SW', 'WE', 'WE', 'S'], 'area': ['Low', 'Low', 'Mod', 'High', 'High', 'Low', 'Low', 'High', 'Low', 'Mod', 'Mod', 'Mod', 'High', 'Mod', 'High', 'High', 'Mod', 'Low', 'High', 'High', 'High', 'Mod', 'High', 'Low', 'Low']}\n"
     ]
    }
   ],
   "source": [
    "print(weather)"
   ]
  },
  {
   "cell_type": "raw",
   "metadata": {},
   "source": []
  },
  {
   "cell_type": "code",
   "execution_count": 155,
   "metadata": {},
   "outputs": [
    {
     "data": {
      "text/plain": [
       "[31.4,\n",
       " 31.1,\n",
       " 34.3,\n",
       " 27.6,\n",
       " 25.7,\n",
       " 34.2,\n",
       " 26.1,\n",
       " 31.3,\n",
       " 30.9,\n",
       " 29.2,\n",
       " 35.0,\n",
       " 29.9,\n",
       " 34.7,\n",
       " 33.9,\n",
       " 32.3,\n",
       " 33.7,\n",
       " 25.1,\n",
       " 28.7,\n",
       " 26.9,\n",
       " 34.8,\n",
       " 33.6,\n",
       " 27.9,\n",
       " 28.9,\n",
       " 26.6,\n",
       " 31.4]"
      ]
     },
     "execution_count": 155,
     "metadata": {},
     "output_type": "execute_result"
    }
   ],
   "source": [
    "#to get values of a specific key\n",
    "weather['maxtemp']"
   ]
  },
  {
   "cell_type": "code",
   "execution_count": 156,
   "metadata": {},
   "outputs": [
    {
     "data": {
      "text/plain": [
       "49.4"
      ]
     },
     "execution_count": 156,
     "metadata": {},
     "output_type": "execute_result"
    }
   ],
   "source": [
    "#max pollution level\n",
    "max(weather['pollution'])"
   ]
  },
  {
   "cell_type": "code",
   "execution_count": 157,
   "metadata": {},
   "outputs": [
    {
     "data": {
      "text/plain": [
       "[34, 59, 32, 44, 32]"
      ]
     },
     "execution_count": 157,
     "metadata": {},
     "output_type": "execute_result"
    }
   ],
   "source": [
    "#get the minumum humidity of the first 5 records\n",
    "weather['minhumid'][0:5]"
   ]
  },
  {
   "cell_type": "code",
   "execution_count": 158,
   "metadata": {},
   "outputs": [
    {
     "data": {
      "text/plain": [
       "{'empid': 1001}"
      ]
     },
     "execution_count": 158,
     "metadata": {},
     "output_type": "execute_result"
    }
   ],
   "source": [
    "#nested dictionary\n",
    "employee ={}\n",
    "employee['empid'] = 1001\n",
    "employee"
   ]
  },
  {
   "cell_type": "code",
   "execution_count": 160,
   "metadata": {},
   "outputs": [
    {
     "name": "stdout",
     "output_type": "stream",
     "text": [
      "{'empid': 1001, 'name': {'first': 'Anand', 'middle': 'C', 'last': 'Gupta'}}\n"
     ]
    }
   ],
   "source": [
    "employee['name'] = {'first':'Anand','middle':'C','last':'Gupta'}\n",
    "print(employee)"
   ]
  },
  {
   "cell_type": "code",
   "execution_count": 161,
   "metadata": {},
   "outputs": [
    {
     "data": {
      "text/plain": [
       "'Gupta'"
      ]
     },
     "execution_count": 161,
     "metadata": {},
     "output_type": "execute_result"
    }
   ],
   "source": [
    "#get the last name\n",
    "employee['name']['last']"
   ]
  },
  {
   "cell_type": "code",
   "execution_count": null,
   "metadata": {},
   "outputs": [],
   "source": []
  }
 ],
 "metadata": {
  "kernelspec": {
   "display_name": "Python 3",
   "language": "python",
   "name": "python3"
  },
  "language_info": {
   "codemirror_mode": {
    "name": "ipython",
    "version": 3
   },
   "file_extension": ".py",
   "mimetype": "text/x-python",
   "name": "python",
   "nbconvert_exporter": "python",
   "pygments_lexer": "ipython3",
   "version": "3.7.6"
  }
 },
 "nbformat": 4,
 "nbformat_minor": 4
}
